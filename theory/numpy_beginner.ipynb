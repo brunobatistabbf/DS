{
 "cells": [
  {
   "cell_type": "code",
   "execution_count": 2,
   "id": "85235c3e-986d-480e-80fb-43494d15f4d7",
   "metadata": {
    "tags": []
   },
   "outputs": [],
   "source": [
    "#numpy \n",
    "import numpy as np"
   ]
  },
  {
   "cell_type": "code",
   "execution_count": 3,
   "id": "3f1b9d75-da4e-4d74-b3b2-b9748f9be861",
   "metadata": {},
   "outputs": [
    {
     "name": "stdout",
     "output_type": "stream",
     "text": [
      "[12 34 18 10]\n",
      "<class 'numpy.ndarray'>\n"
     ]
    }
   ],
   "source": [
    "#cria uma matriz unidimensional\n",
    "mt = np.array([12,34,18,10])\n",
    "print(mt)\n",
    "print(type(mt)) #mostra o tipo array do numpy"
   ]
  },
  {
   "cell_type": "code",
   "execution_count": 5,
   "id": "7d963cdf-3f7a-4cad-9d25-59283d2f54ab",
   "metadata": {},
   "outputs": [
    {
     "name": "stdout",
     "output_type": "stream",
     "text": [
      "[1. 2. 3.]\n",
      "<class 'numpy.ndarray'>\n",
      "[1 2 3]\n",
      "<class 'numpy.ndarray'>\n",
      "[1. 2. 3.]\n",
      "<class 'numpy.ndarray'>\n"
     ]
    }
   ],
   "source": [
    "#criar o array com um tipo especifico\n",
    "\n",
    "mtfloat = np.array([1,2,3], dtype = np.float64)\n",
    "print(mtfloat)\n",
    "print(type(mtfloat))\n",
    "\n",
    "mtint = np.array([1,2,3], dtype = np.int32)\n",
    "print(mtint)\n",
    "print(type(mtint))\n",
    "\n",
    "#mudando o tipo do array\n",
    "mtnew = mtint.astype(np.float64)\n",
    "print(mtnew)\n",
    "print(type(mtnew))\n"
   ]
  },
  {
   "cell_type": "code",
   "execution_count": 11,
   "id": "8a08b01b-efa3-46f2-8aa3-7e9502aeb985",
   "metadata": {},
   "outputs": [
    {
     "name": "stdout",
     "output_type": "stream",
     "text": [
      "[[         0 1072693248]\n",
      " [         0 1073741824]\n",
      " [         0 1074266112]]\n",
      "---------------\n",
      "[[0. 0. 0.]\n",
      " [0. 0. 0.]\n",
      " [0. 0. 0.]\n",
      " [0. 0. 0.]]\n",
      "<class 'numpy.ndarray'>\n",
      "-------------------\n",
      "[[1. 1. 1. 1. 1. 1. 1.]\n",
      " [1. 1. 1. 1. 1. 1. 1.]\n",
      " [1. 1. 1. 1. 1. 1. 1.]\n",
      " [1. 1. 1. 1. 1. 1. 1.]\n",
      " [1. 1. 1. 1. 1. 1. 1.]]\n",
      "<class 'numpy.ndarray'>\n",
      "----------------\n",
      "[[1. 0. 0. 0. 0. 0. 0. 0. 0. 0.]\n",
      " [0. 1. 0. 0. 0. 0. 0. 0. 0. 0.]\n",
      " [0. 0. 1. 0. 0. 0. 0. 0. 0. 0.]\n",
      " [0. 0. 0. 1. 0. 0. 0. 0. 0. 0.]\n",
      " [0. 0. 0. 0. 1. 0. 0. 0. 0. 0.]\n",
      " [0. 0. 0. 0. 0. 1. 0. 0. 0. 0.]\n",
      " [0. 0. 0. 0. 0. 0. 1. 0. 0. 0.]\n",
      " [0. 0. 0. 0. 0. 0. 0. 1. 0. 0.]\n",
      " [0. 0. 0. 0. 0. 0. 0. 0. 1. 0.]\n",
      " [0. 0. 0. 0. 0. 0. 0. 0. 0. 1.]]\n",
      "<class 'numpy.ndarray'>\n"
     ]
    }
   ],
   "source": [
    "#criar arrays vazioa tipificados\n",
    "#empty significa que não foi inicializado, não que são vazios\n",
    "vazio= np.empty([3,2], dtype = int)\n",
    "print(vazio)\n",
    "print(\"---------------\")\n",
    "\n",
    "#cria matriz 4x3 com valores zero\n",
    "zeros = np.zeros([4,3])\n",
    "print(zeros)\n",
    "print(type(zeros))\n",
    "print(\"-------------------\")\n",
    "\n",
    "#com valores igual a um\n",
    "um = np.ones([5,7])\n",
    "print(um)\n",
    "print(type(um))\n",
    "print(\"----------------\")\n",
    "\n",
    "#cria matriz quadrada com digonal principal com valores 1 e outros valores zero\n",
    "diagonal = np.eye(10)\n",
    "print(diagonal)\n",
    "print(type(diagonal))\n",
    "\n"
   ]
  },
  {
   "cell_type": "code",
   "execution_count": 13,
   "id": "9e0d8526-18c6-4cee-90ec-031ad6f90f3d",
   "metadata": {},
   "outputs": [
    {
     "name": "stdout",
     "output_type": "stream",
     "text": [
      "[0.04196639 0.04130159 0.76146645 0.88780008 0.33515854]\n",
      "<class 'numpy.ndarray'>\n",
      "[-1.65433567 -0.99907749  0.61415922 -0.71351671  1.02047833]\n",
      "<class 'numpy.ndarray'>\n",
      "[[3.38948393 1.78373515 7.22491105 5.45559693]\n",
      " [3.5423846  1.58480941 9.23994652 3.31275451]\n",
      " [6.10813993 4.54059261 2.51167168 3.22392478]]\n"
     ]
    }
   ],
   "source": [
    "#valores aleatorios entre zero e um\n",
    "ale = np.random.random((5))\n",
    "print(ale)\n",
    "print(type(ale))\n",
    "\n",
    "#valores aleatórios distr. normal contendo negativos\n",
    "ale2 = np.random.randn((5))\n",
    "print(ale2)\n",
    "print(type(ale2))\n",
    "\n",
    "#valores aleatórios 3 x 4 \n",
    "ale3 = (10*np.random.random((3,4)))\n",
    "print(ale3)"
   ]
  },
  {
   "cell_type": "code",
   "execution_count": 17,
   "id": "1de6f622-ddf0-4d90-8415-392c123edfe3",
   "metadata": {},
   "outputs": [
    {
     "name": "stdout",
     "output_type": "stream",
     "text": [
      "[12 13 14 15 16 17 18 19 20]\n"
     ]
    }
   ],
   "source": [
    "#unique remove repetições \n",
    "k = np.array([12,12,12,13,13,14,15,16,16,17,18,19,20,20])\n",
    "k = np.unique(j)\n",
    "print(k)"
   ]
  },
  {
   "cell_type": "code",
   "execution_count": 18,
   "id": "6037a4bf-5bcb-472e-8c98-b444b3336ae3",
   "metadata": {},
   "outputs": [
    {
     "name": "stdout",
     "output_type": "stream",
     "text": [
      "20\n",
      "12\n",
      "144\n",
      "16.0\n",
      "2.581988897471611\n"
     ]
    }
   ],
   "source": [
    "#Funções Matematicas\n",
    "#mostra o maior valor da matriz k\n",
    "print(k.max())\n",
    "#mostra o menor valor da matriz k\n",
    "print(k.min())\n",
    "#mostra a soma dos calores da matriz k\n",
    "print(k.sum())\n",
    "#mostra o valor medio dis valores da matriz k\n",
    "print(k.mean())\n",
    "#mostra o valor do desvio padrão dos valores da matriz k\n",
    "print(k.std())\n"
   ]
  },
  {
   "cell_type": "code",
   "execution_count": null,
   "id": "f13b2128-14e4-47d3-bbae-e5412922f39f",
   "metadata": {},
   "outputs": [],
   "source": [
    "#Expressões logicas\n",
    "#usando where\n",
    "#criando matriz com valores aleatórios positivos e negativos\n",
    "v = np.random.randn(4,4)\n",
    "print(v)\n",
    "\n",
    "#criando matriz com valores booleanos baseado no array v\n",
    "x = (v > 0)\n",
    "print(x)\n",
    "\n",
    "#criando matriz com valores -1 e 1 baseado nos valores do array x\n",
    "z = np.where(x > 0, 1, -1)\n"
   ]
  }
 ],
 "metadata": {
  "kernelspec": {
   "display_name": "Python 3 (ipykernel)",
   "language": "python",
   "name": "python3"
  },
  "language_info": {
   "codemirror_mode": {
    "name": "ipython",
    "version": 3
   },
   "file_extension": ".py",
   "mimetype": "text/x-python",
   "name": "python",
   "nbconvert_exporter": "python",
   "pygments_lexer": "ipython3",
   "version": "3.10.9"
  }
 },
 "nbformat": 4,
 "nbformat_minor": 5
}
